{
 "cells": [
  {
   "cell_type": "code",
   "execution_count": 1,
   "id": "92b883c9-bc85-4753-918c-143c28be4a08",
   "metadata": {},
   "outputs": [
    {
     "data": {
      "text/plain": [
       "'\\n1 . explain class and object with respect to oops \\n'"
      ]
     },
     "execution_count": 1,
     "metadata": {},
     "output_type": "execute_result"
    }
   ],
   "source": [
    "'''\n",
    "1 . explain class and object with respect to oops \n",
    "'''"
   ]
  },
  {
   "cell_type": "code",
   "execution_count": 2,
   "id": "b9392856-edd6-4668-88b6-b8af84fc127b",
   "metadata": {},
   "outputs": [
    {
     "data": {
      "text/plain": [
       "'\\nA Class in object oriented programming is a blueprint or prototype that  defines\\nthe variables and the methods (functions) common to all  Objects of a certain kind. An object in OOPS is a specimen of a class. Software objects are often used to model real-world \\nobjects you find in everyday life\\n\\n'"
      ]
     },
     "execution_count": 2,
     "metadata": {},
     "output_type": "execute_result"
    }
   ],
   "source": [
    "'''\n",
    "A Class in object oriented programming is a blueprint or prototype that  defines\n",
    "the variables and the methods (functions) common to all  Objects of a certain kind. An object in OOPS is a specimen of a class. Software objects are often used to model real-world \n",
    "objects you find in everyday life\n",
    "\n",
    "'''"
   ]
  },
  {
   "cell_type": "code",
   "execution_count": 3,
   "id": "1deb2431-7ed3-4681-9a2f-107bb90bd886",
   "metadata": {},
   "outputs": [
    {
     "data": {
      "text/plain": [
       "'\\n2. name four pillar of oops\\n'"
      ]
     },
     "execution_count": 3,
     "metadata": {},
     "output_type": "execute_result"
    }
   ],
   "source": [
    "'''\n",
    "2. name four pillar of oops\n",
    "'''"
   ]
  },
  {
   "cell_type": "code",
   "execution_count": 4,
   "id": "9eb5e7de-3236-4430-b2f5-e3ff4aa4d942",
   "metadata": {},
   "outputs": [
    {
     "data": {
      "text/plain": [
       "'\\nThe four pillars of object-oriented programming are:\\n\\nAbstraction\\nEncapsulation\\nInheritance\\nPolymorphism\\n'"
      ]
     },
     "execution_count": 4,
     "metadata": {},
     "output_type": "execute_result"
    }
   ],
   "source": [
    "'''\n",
    "The four pillars of object-oriented programming are:\n",
    "\n",
    "Abstraction\n",
    "Encapsulation\n",
    "Inheritance\n",
    "Polymorphism\n",
    "'''"
   ]
  },
  {
   "cell_type": "code",
   "execution_count": 5,
   "id": "320804c2-fc7f-425b-9774-e5ad6005e1eb",
   "metadata": {},
   "outputs": [
    {
     "data": {
      "text/plain": [
       "'\\nexplain why the --init-- () function is used .  give an exapmle\\n'"
      ]
     },
     "execution_count": 5,
     "metadata": {},
     "output_type": "execute_result"
    }
   ],
   "source": [
    "'''\n",
    "explain why the --init-- () function is used .  give an exapmle\n",
    "'''"
   ]
  },
  {
   "cell_type": "code",
   "execution_count": 6,
   "id": "db4afdf0-a1a1-46fa-8ef3-56a4d95abaf6",
   "metadata": {},
   "outputs": [
    {
     "data": {
      "text/plain": [
       "'\\nAll classes have a function called __init__(), which is always executed when the class is being initiated.\\n\\nUse the __init__() function to assign values to object properties, or other operations that are necessary to do when the object is being created:\\n'"
      ]
     },
     "execution_count": 6,
     "metadata": {},
     "output_type": "execute_result"
    }
   ],
   "source": [
    "'''\n",
    "All classes have a function called __init__(), which is always executed when the class is being initiated.\n",
    "\n",
    "Use the __init__() function to assign values to object properties, or other operations that are necessary to do when the object is being created:\n",
    "'''"
   ]
  },
  {
   "cell_type": "code",
   "execution_count": 8,
   "id": "579a786f-b5df-4b29-8095-65d354d03917",
   "metadata": {},
   "outputs": [
    {
     "name": "stdout",
     "output_type": "stream",
     "text": [
      "vikas\n",
      "21\n"
     ]
    }
   ],
   "source": [
    "class Person:\n",
    "     def __init__(self, name, age):\n",
    "        self.name = name\n",
    "        self.age = age\n",
    "\n",
    "p1 = Person(\"vikas\", 21)\n",
    "\n",
    "print(p1.name)\n",
    "print(p1.age)"
   ]
  },
  {
   "cell_type": "code",
   "execution_count": 9,
   "id": "995cbc58-77e7-43a6-b0ec-205233ed1f43",
   "metadata": {},
   "outputs": [
    {
     "data": {
      "text/plain": [
       "'\\nwhy self is used in oops\\n'"
      ]
     },
     "execution_count": 9,
     "metadata": {},
     "output_type": "execute_result"
    }
   ],
   "source": [
    "'''\n",
    "why self is used in oops\n",
    "'''"
   ]
  },
  {
   "cell_type": "code",
   "execution_count": 10,
   "id": "1d290291-93d3-4f2f-9f2a-878afe95e28b",
   "metadata": {},
   "outputs": [
    {
     "data": {
      "text/plain": [
       "'\\nBy using the “self”  we can access the attributes and methods of the class in python.\\n'"
      ]
     },
     "execution_count": 10,
     "metadata": {},
     "output_type": "execute_result"
    }
   ],
   "source": [
    "'''\n",
    "By using the “self”  we can access the attributes and methods of the class in python.\n",
    "'''"
   ]
  },
  {
   "cell_type": "code",
   "execution_count": 11,
   "id": "32e4d6a6-fb89-419f-9f96-3581f496e07b",
   "metadata": {},
   "outputs": [
    {
     "data": {
      "text/plain": [
       "'\\nwhat is inheritance ?give an example for each type of inheritance\\n'"
      ]
     },
     "execution_count": 11,
     "metadata": {},
     "output_type": "execute_result"
    }
   ],
   "source": [
    "'''\n",
    "what is inheritance ?give an example for each type of inheritance\n",
    "'''"
   ]
  },
  {
   "cell_type": "code",
   "execution_count": 12,
   "id": "981f41bf-d132-4771-9922-7ae276606217",
   "metadata": {},
   "outputs": [
    {
     "data": {
      "text/plain": [
       "'\\ninheritance is defined as the mechanism of \\ninheriting the properties of the base class to the child class. \\n'"
      ]
     },
     "execution_count": 12,
     "metadata": {},
     "output_type": "execute_result"
    }
   ],
   "source": [
    "'''\n",
    "inheritance is defined as the mechanism of \n",
    "inheriting the properties of the base class to the child class. \n",
    "'''"
   ]
  },
  {
   "cell_type": "code",
   "execution_count": 19,
   "id": "6d42b012-4be5-444f-b0b4-965f7142e7f3",
   "metadata": {},
   "outputs": [
    {
     "name": "stdout",
     "output_type": "stream",
     "text": [
      "This function is in parent class.\n",
      "This function is in child class.\n"
     ]
    }
   ],
   "source": [
    "'''\n",
    "single inheritance\n",
    "ingle inheritance enables a derived class to inherit properties from a single parent class, thus enabling code reusability \n",
    "and the addition of new features to existing code.\n",
    "\n",
    "'''\n",
    "\n",
    "class Parent:\n",
    "    def function1(self):\n",
    "        print(\"This function is in parent class.\")\n",
    " \n",
    "\n",
    " \n",
    "class Child(Parent):\n",
    "    def function2(self):\n",
    "        print(\"This function is in child class.\")\n",
    " \n",
    " \n",
    "# Driver's code\n",
    "object = Child()\n",
    "object.function1()\n",
    "object.function2()\n",
    "\n"
   ]
  },
  {
   "cell_type": "code",
   "execution_count": 33,
   "id": "628b0550-dfa1-48cb-8f86-0208215bf84f",
   "metadata": {},
   "outputs": [
    {
     "name": "stdout",
     "output_type": "stream",
     "text": [
      "Father : RAM\n",
      "Mother : SITA\n"
     ]
    },
    {
     "ename": "TypeError",
     "evalue": "Mother.mother() missing 1 required positional argument: 'self'",
     "output_type": "error",
     "traceback": [
      "\u001b[0;31m---------------------------------------------------------------------------\u001b[0m",
      "\u001b[0;31mTypeError\u001b[0m                                 Traceback (most recent call last)",
      "Cell \u001b[0;32mIn[33], line 36\u001b[0m\n\u001b[1;32m     34\u001b[0m s1\u001b[38;5;241m.\u001b[39mmothername \u001b[38;5;241m=\u001b[39m \u001b[38;5;124m\"\u001b[39m\u001b[38;5;124mSITA\u001b[39m\u001b[38;5;124m\"\u001b[39m\n\u001b[1;32m     35\u001b[0m s1\u001b[38;5;241m.\u001b[39mparents()\n\u001b[0;32m---> 36\u001b[0m \u001b[43mMother\u001b[49m\u001b[38;5;241;43m.\u001b[39;49m\u001b[43mmother\u001b[49m\u001b[43m(\u001b[49m\u001b[43m)\u001b[49m\n",
      "\u001b[0;31mTypeError\u001b[0m: Mother.mother() missing 1 required positional argument: 'self'"
     ]
    }
   ],
   "source": [
    "'''\n",
    "Multiple Inheritance: \n",
    "When a class can be derived from more than one base class this type of inheritance is called multiple inheritances. In multiple inheritances, \n",
    "all the features of the base classes are inherited into the derived class. \n",
    "'''\n",
    "\n",
    "class Mother:\n",
    "\tmothername = \"\"\n",
    "\n",
    "\tdef mother(self):\n",
    "\t\tprint(self.mothername)\n",
    "\n",
    "\n",
    "\n",
    "\n",
    "class Father:\n",
    "\tfathername = \"\"\n",
    "\n",
    "\tdef father(self):\n",
    "\t\tprint(self.fathername)\n",
    "\n",
    "\n",
    "\n",
    "\n",
    "class Son(Mother, Father):\n",
    "\tdef parents(self):\n",
    "\t\tprint(\"Father :\", self.fathername)\n",
    "\t\tprint(\"Mother :\", self.mothername)\n",
    "\n",
    "\n",
    "# Driver's code\n",
    "s1 = Son()\n",
    "s1.fathername = \"RAM\"\n",
    "s1.mothername = \"SITA\"\n",
    "s1.parents()\n",
    "Mother.mother(sita')\n"
   ]
  },
  {
   "cell_type": "code",
   "execution_count": null,
   "id": "a3927d8f-316c-4f9f-81ea-e0cbb999769d",
   "metadata": {},
   "outputs": [],
   "source": []
  }
 ],
 "metadata": {
  "kernelspec": {
   "display_name": "Python 3 (ipykernel)",
   "language": "python",
   "name": "python3"
  },
  "language_info": {
   "codemirror_mode": {
    "name": "ipython",
    "version": 3
   },
   "file_extension": ".py",
   "mimetype": "text/x-python",
   "name": "python",
   "nbconvert_exporter": "python",
   "pygments_lexer": "ipython3",
   "version": "3.10.8"
  }
 },
 "nbformat": 4,
 "nbformat_minor": 5
}
